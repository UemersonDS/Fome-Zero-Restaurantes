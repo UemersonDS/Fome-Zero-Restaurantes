{
 "cells": [
  {
   "cell_type": "code",
   "execution_count": 72,
   "id": "1a689891-3847-4430-9ee0-012787979b3c",
   "metadata": {},
   "outputs": [],
   "source": [
    "# Importando Bibliotecas\n",
    "import pandas as pd\n",
    "import numpy as np\n",
    "import plotly.graph_objects as go\n",
    "import plotly.express as px\n",
    "import folium\n",
    "from streamlit_folium import folium_static"
   ]
  },
  {
   "cell_type": "code",
   "execution_count": 10,
   "id": "26a5358f-3463-4a44-8c52-db7e7f8f2962",
   "metadata": {},
   "outputs": [],
   "source": [
    "df_raw = pd.read_csv('dataset/zomato.csv')"
   ]
  },
  {
   "cell_type": "markdown",
   "id": "b1b90d42-8540-4c58-87be-57addfc9a201",
   "metadata": {},
   "source": [
    "df_raw = pd.read_csv('dataset/zomato.csv')"
   ]
  },
  {
   "cell_type": "markdown",
   "id": "0d985a49-3771-4d20-a76d-da8d2cd1dd38",
   "metadata": {},
   "source": [
    "## Limpando Dados"
   ]
  },
  {
   "cell_type": "code",
   "execution_count": 11,
   "id": "96b3bad0-d330-4bee-9a27-e66261cf01b6",
   "metadata": {},
   "outputs": [],
   "source": [
    "# Criando Funções:\n",
    "\n",
    "COUNTRIES = {\n",
    "1: \"India\",\n",
    "14: \"Australia\",\n",
    "30: \"Brazil\",\n",
    "37: \"Canada\",\n",
    "94: \"Indonesia\",\n",
    "148: \"New Zeland\",\n",
    "162: \"Philippines\",\n",
    "166: \"Qatar\",\n",
    "184: \"Singapure\",\n",
    "189: \"South Africa\",\n",
    "191: \"Sri Lanka\",\n",
    "208: \"Turkey\",\n",
    "214: \"United Arab Emirates\",\n",
    "215: \"England\",\n",
    "216: \"United States of America\",\n",
    "}\n",
    "\n",
    "def Country_Name(country_id):\n",
    "    return COUNTRIES[country_id]\n",
    "\n",
    "\n",
    "# -----------------------------------------------\n",
    "\n",
    "\n",
    "def create_price_tye(price_range):\n",
    "    if price_range == 1:\n",
    "        return \"cheap\"\n",
    "    elif price_range == 2:\n",
    "        return \"normal\"\n",
    "    elif price_range == 3:\n",
    "        return \"expensive\"\n",
    "    else:\n",
    "        return \"gourmet\"\n",
    "    \n",
    "    \n",
    "# -----------------------------------------------\n",
    "\n",
    "COLORS = {\n",
    "\"3F7E00\": \"darkgreen\",\n",
    "\"5BA829\": \"green\",\n",
    "\"9ACD32\": \"lightgreen\",\n",
    "\"CDD614\": \"orange\",\n",
    "\"FFBA00\": \"red\",\n",
    "\"CBCBC8\": \"darkred\",\n",
    "\"FF7800\": \"darkred\",\n",
    "}\n",
    "def color_name(color_code):\n",
    "    return COLORS[color_code]\n",
    "\n",
    "# -----------------------------------------------\n",
    "\n",
    "def rename_columns(dataframe):\n",
    "    df = dataframe.copy()\n",
    "    title = lambda x: inflection.titleize(x)\n",
    "    snakecase = lambda x: inflection.underscore(x)\n",
    "    spaces = lambda x: x.replace(\" \", \"\")\n",
    "    cols_old = list(df1.columns)\n",
    "    cols_old = list(map(title, cols_old))\n",
    "    cols_old = list(map(spaces, cols_old))\n",
    "    cols_new = list(map(snakecase, cols_old))\n",
    "    df1.columns = cols_new\n",
    "    return df"
   ]
  },
  {
   "cell_type": "code",
   "execution_count": 12,
   "id": "5cb15f62-16cf-4088-9840-4ab795be5308",
   "metadata": {},
   "outputs": [],
   "source": [
    "df = df_raw.copy()\n",
    "\n",
    "# Removendo linhas 'NaN'\n",
    "\n",
    "df = df.dropna(subset=['Restaurant ID'])\n",
    "df = df.dropna(subset=['Restaurant Name'])\n",
    "df = df.dropna(subset=['Cuisines'])\n",
    "df = df.dropna(subset=['Country Code'])\n",
    "df = df.dropna(subset=['Address'])\n",
    "df = df.dropna(subset=['Locality'])\n",
    "df = df.dropna(subset=['Locality Verbose'])\n",
    "df = df.dropna(subset=['Longitude'])\n",
    "df = df.dropna(subset=['Average Cost for two'])\n",
    "df = df.dropna(subset=['Has Table booking'])\n",
    "df = df.dropna(subset=['Has Online delivery'])\n",
    "df = df.dropna(subset=['Price range'])\n",
    "df = df.dropna(subset=['Aggregate rating'])\n",
    "df = df.dropna(subset=['Rating color'])\n",
    "df = df.dropna(subset=['Votes'])\n",
    "df = df.dropna(subset=['City'])\n",
    "#df = df.dropna(subset=['City'])\n",
    "\n",
    "df = df.dropna( )\n",
    "\n",
    "# Removendo linhas duplicadas\n",
    "df = df.drop_duplicates()\n",
    "\n",
    "df = df.drop(columns = ['Switch to order menu'], axis=1)\n",
    "\n",
    "# Define categorias de preço de acordo com o range\n",
    "df['Price range'] = df['Price range'].apply(create_price_tye)\n",
    "\n",
    "# Define o padrão de cores das avaliações\n",
    "df['Rating color'] = df['Rating color'].apply(color_name)\n",
    "\n",
    "# --------------------------------------------------------\n",
    "\n",
    "df['Country Name'] = df['Country Code'].map(Country_Name)\n",
    "# Definisdo os restaurantes po apenas um tipo de culinaria\n",
    "df[\"Cuisines\"] = df.loc[:, \"Cuisines\"].astype(str).apply(lambda x: x.split(\",\")[0])\n",
    "\n",
    "# df.info() #valores nulos\n",
    "#print(df.isnull())\n",
    "# print(df.isna())"
   ]
  },
  {
   "cell_type": "code",
   "execution_count": 70,
   "id": "0ae9b16b-8552-4c7f-8abe-30e5a4ef3802",
   "metadata": {},
   "outputs": [
    {
     "name": "stdout",
     "output_type": "stream",
     "text": [
      "<class 'pandas.core.frame.DataFrame'>\n",
      "Int64Index: 6929 entries, 0 to 7526\n",
      "Data columns (total 21 columns):\n",
      " #   Column                Non-Null Count  Dtype  \n",
      "---  ------                --------------  -----  \n",
      " 0   Restaurant ID         6929 non-null   int64  \n",
      " 1   Restaurant Name       6929 non-null   object \n",
      " 2   Country Code          6929 non-null   int64  \n",
      " 3   City                  6929 non-null   object \n",
      " 4   Address               6929 non-null   object \n",
      " 5   Locality              6929 non-null   object \n",
      " 6   Locality Verbose      6929 non-null   object \n",
      " 7   Longitude             6929 non-null   float64\n",
      " 8   Latitude              6929 non-null   float64\n",
      " 9   Cuisines              6929 non-null   object \n",
      " 10  Average Cost for two  6929 non-null   int64  \n",
      " 11  Currency              6929 non-null   object \n",
      " 12  Has Table booking     6929 non-null   int64  \n",
      " 13  Has Online delivery   6929 non-null   int64  \n",
      " 14  Is delivering now     6929 non-null   int64  \n",
      " 15  Price range           6929 non-null   object \n",
      " 16  Aggregate rating      6929 non-null   float64\n",
      " 17  Rating color          6929 non-null   object \n",
      " 18  Rating text           6929 non-null   object \n",
      " 19  Votes                 6929 non-null   int64  \n",
      " 20  Country Name          6929 non-null   object \n",
      "dtypes: float64(3), int64(7), object(11)\n",
      "memory usage: 1.2+ MB\n"
     ]
    }
   ],
   "source": [
    "df.info()"
   ]
  },
  {
   "cell_type": "markdown",
   "id": "e0b74022-0e4c-4253-b20e-f2c209b01c44",
   "metadata": {},
   "source": [
    "## Visão Restaurante"
   ]
  },
  {
   "cell_type": "code",
   "execution_count": 71,
   "id": "279cebb9-0cd6-4cba-a945-3ad7cbf3961b",
   "metadata": {},
   "outputs": [],
   "source": [
    "df1 = df.copy()\n",
    "df1 = df1.dropna(subset=['Country Name'])"
   ]
  },
  {
   "cell_type": "code",
   "execution_count": 16,
   "id": "74892bba-ea22-4d37-99a7-468cdbc841a0",
   "metadata": {},
   "outputs": [],
   "source": [
    "# df1 = df1.drop('index', axis=1) # Remove index"
   ]
  },
  {
   "cell_type": "markdown",
   "id": "a6fff1a6-07c5-44ff-89e4-499de97cdb19",
   "metadata": {},
   "source": [
    "### 1. Qual o nome do restaurante que possui a maior quantidade de avaliações?"
   ]
  },
  {
   "cell_type": "code",
   "execution_count": 21,
   "id": "25ceeb44-5528-4dcd-a1bc-a5e40ea1e96b",
   "metadata": {},
   "outputs": [
    {
     "name": "stdout",
     "output_type": "stream",
     "text": [
      "O nome do restaurante que possui a maior quantidade de avaliações é Domino's Pizza\n"
     ]
    }
   ],
   "source": [
    "valor = df1.loc[:, ['Votes', 'Restaurant Name']].groupby('Restaurant Name').count().sort_values(['Votes'],ascending = False).reset_index().iloc[0, 0]\n",
    "print( f'O nome do restaurante que possui a maior quantidade de avaliações é {valor}' )"
   ]
  },
  {
   "cell_type": "markdown",
   "id": "0b6c05e5-8485-4b8f-a279-3d50de907421",
   "metadata": {},
   "source": [
    "### 2. Qual o nome do restaurante com a maior nota média?"
   ]
  },
  {
   "cell_type": "code",
   "execution_count": 23,
   "id": "d7bfadea-1762-43fb-b743-7103be42ff88",
   "metadata": {},
   "outputs": [
    {
     "name": "stdout",
     "output_type": "stream",
     "text": [
      "O nome do restaurante com a maior nota média é Toit\n"
     ]
    }
   ],
   "source": [
    "valor = df1.loc[:, ['Votes', 'Restaurant Name']].groupby('Restaurant Name').mean().sort_values(['Votes'],ascending = False).reset_index().iloc[0, 0]\n",
    "print( f'O nome do restaurante com a maior nota média é {valor}' )"
   ]
  },
  {
   "cell_type": "markdown",
   "id": "ecaf11b3-8c11-4b99-b2c7-7a1410261c48",
   "metadata": {},
   "source": [
    "### 3. Qual o nome do restaurante que possui o maior valor de uma prato para duas pessoas?"
   ]
  },
  {
   "cell_type": "code",
   "execution_count": 26,
   "id": "d78c4183-9aa7-4550-955c-0e5bd56057ef",
   "metadata": {},
   "outputs": [
    {
     "name": "stdout",
     "output_type": "stream",
     "text": [
      "O nome do restaurante que possui o maior valor de uma prato para duas pessoas é d'Arry's Verandah Restaurant\n"
     ]
    }
   ],
   "source": [
    "valor = df1.loc[:, ['Average Cost for two', 'Restaurant Name']].groupby('Restaurant Name').max().sort_values(['Average Cost for two'],ascending = False).reset_index().iloc[0, 0]\n",
    "print( f'O nome do restaurante que possui o maior valor de uma prato para duas pessoas é {valor}' )"
   ]
  },
  {
   "cell_type": "markdown",
   "id": "7b2184af-ff44-4976-84da-4b8420259fa2",
   "metadata": {},
   "source": [
    "### 4. Qual o nome do restaurante de tipo de culinária brasileira que possui a menor média de avaliação?"
   ]
  },
  {
   "cell_type": "code",
   "execution_count": 44,
   "id": "9f78e49f-778c-45c2-9740-74981753df15",
   "metadata": {},
   "outputs": [
    {
     "name": "stdout",
     "output_type": "stream",
     "text": [
      "O nome do restaurante de tipo de culinária brasileira que possui a menor média de avaliação é Cantinho da Gula\n"
     ]
    }
   ],
   "source": [
    "valor = df1.loc[df1['Cuisines'] == 'Brazilian', ['Votes', 'Restaurant Name']].groupby('Restaurant Name').mean().sort_values(['Votes'],ascending = True).reset_index().iloc[0, 0]\n",
    "print( f'O nome do restaurante de tipo de culinária brasileira que possui a menor média de avaliação é {valor}' )"
   ]
  },
  {
   "cell_type": "markdown",
   "id": "8df8b991-4a62-46e6-b68a-2d66ee4219fc",
   "metadata": {},
   "source": [
    "###  5. Qual o nome do restaurante de tipo de culinária brasileira, e que é do Brasil, que possui a maior média de avaliação?"
   ]
  },
  {
   "cell_type": "code",
   "execution_count": 45,
   "id": "8728da92-dc70-4115-9f63-3f35aba711f9",
   "metadata": {},
   "outputs": [
    {
     "name": "stdout",
     "output_type": "stream",
     "text": [
      "O nome do restaurante de tipo de culinária brasileira, e que é do Brasil, que possui a maior média de avaliação é Veloso\n"
     ]
    }
   ],
   "source": [
    "valor = df1.loc[(df1['Cuisines'] == 'Brazilian') & (df1['Country Name'] == 'Brazil'), ['Votes', 'Restaurant Name']].groupby('Restaurant Name').mean().sort_values(['Votes'],ascending = False).reset_index().iloc[0, 0]\n",
    "print( f'O nome do restaurante de tipo de culinária brasileira, e que é do Brasil, que possui a maior média de avaliação é {valor}' )"
   ]
  },
  {
   "cell_type": "markdown",
   "id": "47984e7d-a52f-45d7-b4b2-5c5c7204dfc1",
   "metadata": {},
   "source": [
    "### 6. Os restaurantes que aceitam pedido online são também, na média, os restaurantes que mais possuem avaliações registradas?"
   ]
  },
  {
   "cell_type": "code",
   "execution_count": 47,
   "id": "4b9c921b-3c6b-4157-aa8e-fdc2e23e2372",
   "metadata": {},
   "outputs": [
    {
     "data": {
      "text/html": [
       "<div>\n",
       "<style scoped>\n",
       "    .dataframe tbody tr th:only-of-type {\n",
       "        vertical-align: middle;\n",
       "    }\n",
       "\n",
       "    .dataframe tbody tr th {\n",
       "        vertical-align: top;\n",
       "    }\n",
       "\n",
       "    .dataframe thead th {\n",
       "        text-align: right;\n",
       "    }\n",
       "</style>\n",
       "<table border=\"1\" class=\"dataframe\">\n",
       "  <thead>\n",
       "    <tr style=\"text-align: right;\">\n",
       "      <th></th>\n",
       "      <th>Restaurant Name</th>\n",
       "      <th>Votes</th>\n",
       "    </tr>\n",
       "  </thead>\n",
       "  <tbody>\n",
       "    <tr>\n",
       "      <th>0</th>\n",
       "      <td>Bawarchi</td>\n",
       "      <td>41333</td>\n",
       "    </tr>\n",
       "    <tr>\n",
       "      <th>1</th>\n",
       "      <td>Byg Brewski Brewing Company</td>\n",
       "      <td>17394</td>\n",
       "    </tr>\n",
       "    <tr>\n",
       "      <th>2</th>\n",
       "      <td>Hauz Khas Social</td>\n",
       "      <td>13627</td>\n",
       "    </tr>\n",
       "    <tr>\n",
       "      <th>3</th>\n",
       "      <td>Paradise</td>\n",
       "      <td>11910</td>\n",
       "    </tr>\n",
       "    <tr>\n",
       "      <th>4</th>\n",
       "      <td>Shah Ghouse Hotel &amp; Restaurant</td>\n",
       "      <td>11836</td>\n",
       "    </tr>\n",
       "  </tbody>\n",
       "</table>\n",
       "</div>"
      ],
      "text/plain": [
       "                  Restaurant Name  Votes\n",
       "0                        Bawarchi  41333\n",
       "1     Byg Brewski Brewing Company  17394\n",
       "2                Hauz Khas Social  13627\n",
       "3                        Paradise  11910\n",
       "4  Shah Ghouse Hotel & Restaurant  11836"
      ]
     },
     "execution_count": 47,
     "metadata": {},
     "output_type": "execute_result"
    }
   ],
   "source": [
    "df1.loc[df1['Has Online delivery'] == 1, ['Votes', 'Restaurant Name']].groupby('Restaurant Name').max().sort_values(['Votes'],ascending = False).reset_index().head(5)"
   ]
  },
  {
   "cell_type": "code",
   "execution_count": 48,
   "id": "0ba71b65-ca79-406a-a98e-f69908f2823f",
   "metadata": {},
   "outputs": [
    {
     "data": {
      "text/html": [
       "<div>\n",
       "<style scoped>\n",
       "    .dataframe tbody tr th:only-of-type {\n",
       "        vertical-align: middle;\n",
       "    }\n",
       "\n",
       "    .dataframe tbody tr th {\n",
       "        vertical-align: top;\n",
       "    }\n",
       "\n",
       "    .dataframe thead th {\n",
       "        text-align: right;\n",
       "    }\n",
       "</style>\n",
       "<table border=\"1\" class=\"dataframe\">\n",
       "  <thead>\n",
       "    <tr style=\"text-align: right;\">\n",
       "      <th></th>\n",
       "      <th>Restaurant Name</th>\n",
       "      <th>Votes</th>\n",
       "    </tr>\n",
       "  </thead>\n",
       "  <tbody>\n",
       "    <tr>\n",
       "      <th>0</th>\n",
       "      <td>Bawarchi</td>\n",
       "      <td>41333</td>\n",
       "    </tr>\n",
       "    <tr>\n",
       "      <th>1</th>\n",
       "      <td>Byg Brewski Brewing Company</td>\n",
       "      <td>17394</td>\n",
       "    </tr>\n",
       "    <tr>\n",
       "      <th>2</th>\n",
       "      <td>Toit</td>\n",
       "      <td>15270</td>\n",
       "    </tr>\n",
       "    <tr>\n",
       "      <th>3</th>\n",
       "      <td>Truffles</td>\n",
       "      <td>14984</td>\n",
       "    </tr>\n",
       "    <tr>\n",
       "      <th>4</th>\n",
       "      <td>Hauz Khas Social</td>\n",
       "      <td>13627</td>\n",
       "    </tr>\n",
       "  </tbody>\n",
       "</table>\n",
       "</div>"
      ],
      "text/plain": [
       "               Restaurant Name  Votes\n",
       "0                     Bawarchi  41333\n",
       "1  Byg Brewski Brewing Company  17394\n",
       "2                         Toit  15270\n",
       "3                     Truffles  14984\n",
       "4             Hauz Khas Social  13627"
      ]
     },
     "execution_count": 48,
     "metadata": {},
     "output_type": "execute_result"
    }
   ],
   "source": [
    "df1.loc[:, ['Votes', 'Restaurant Name']].groupby('Restaurant Name').max().sort_values(['Votes'],ascending = False).reset_index().head(5)"
   ]
  },
  {
   "cell_type": "markdown",
   "id": "9344f11d-9153-48ed-bc64-61380f9e52a5",
   "metadata": {},
   "source": [
    "### 7. Os restaurantes que fazem reservas são também, na média, os restaurantes que possuem o maior valor médio de um prato para duas pessoas"
   ]
  },
  {
   "cell_type": "code",
   "execution_count": 60,
   "id": "bc5c1244-f089-423f-be14-364e3f2091ea",
   "metadata": {},
   "outputs": [
    {
     "data": {
      "text/html": [
       "<div>\n",
       "<style scoped>\n",
       "    .dataframe tbody tr th:only-of-type {\n",
       "        vertical-align: middle;\n",
       "    }\n",
       "\n",
       "    .dataframe tbody tr th {\n",
       "        vertical-align: top;\n",
       "    }\n",
       "\n",
       "    .dataframe thead th {\n",
       "        text-align: right;\n",
       "    }\n",
       "</style>\n",
       "<table border=\"1\" class=\"dataframe\">\n",
       "  <thead>\n",
       "    <tr style=\"text-align: right;\">\n",
       "      <th></th>\n",
       "      <th>Restaurant Name</th>\n",
       "      <th>Average Cost for two</th>\n",
       "    </tr>\n",
       "  </thead>\n",
       "  <tbody>\n",
       "    <tr>\n",
       "      <th>0</th>\n",
       "      <td>d'Arry's Verandah Restaurant</td>\n",
       "      <td>25000017.0</td>\n",
       "    </tr>\n",
       "    <tr>\n",
       "      <th>1</th>\n",
       "      <td>3 Wise Monkeys</td>\n",
       "      <td>450000.0</td>\n",
       "    </tr>\n",
       "    <tr>\n",
       "      <th>2</th>\n",
       "      <td>Tapas Club</td>\n",
       "      <td>400000.0</td>\n",
       "    </tr>\n",
       "    <tr>\n",
       "      <th>3</th>\n",
       "      <td>Hokkaido Izakaya</td>\n",
       "      <td>350000.0</td>\n",
       "    </tr>\n",
       "    <tr>\n",
       "      <th>4</th>\n",
       "      <td>NOBLE by Zab Thai</td>\n",
       "      <td>300000.0</td>\n",
       "    </tr>\n",
       "  </tbody>\n",
       "</table>\n",
       "</div>"
      ],
      "text/plain": [
       "                Restaurant Name  Average Cost for two\n",
       "0  d'Arry's Verandah Restaurant            25000017.0\n",
       "1                3 Wise Monkeys              450000.0\n",
       "2                    Tapas Club              400000.0\n",
       "3              Hokkaido Izakaya              350000.0\n",
       "4             NOBLE by Zab Thai              300000.0"
      ]
     },
     "execution_count": 60,
     "metadata": {},
     "output_type": "execute_result"
    }
   ],
   "source": [
    "df1.loc[df1['Has Table booking'] == 1, ['Average Cost for two', 'Restaurant Name']].groupby('Restaurant Name').mean().sort_values(['Average Cost for two'],ascending = False).reset_index().head(5)"
   ]
  },
  {
   "cell_type": "code",
   "execution_count": 61,
   "id": "307072f6-906a-479f-a64a-045d98b159e4",
   "metadata": {},
   "outputs": [
    {
     "data": {
      "text/html": [
       "<div>\n",
       "<style scoped>\n",
       "    .dataframe tbody tr th:only-of-type {\n",
       "        vertical-align: middle;\n",
       "    }\n",
       "\n",
       "    .dataframe tbody tr th {\n",
       "        vertical-align: top;\n",
       "    }\n",
       "\n",
       "    .dataframe thead th {\n",
       "        text-align: right;\n",
       "    }\n",
       "</style>\n",
       "<table border=\"1\" class=\"dataframe\">\n",
       "  <thead>\n",
       "    <tr style=\"text-align: right;\">\n",
       "      <th></th>\n",
       "      <th>Restaurant Name</th>\n",
       "      <th>Average Cost for two</th>\n",
       "    </tr>\n",
       "  </thead>\n",
       "  <tbody>\n",
       "    <tr>\n",
       "      <th>0</th>\n",
       "      <td>d'Arry's Verandah Restaurant</td>\n",
       "      <td>25000017.0</td>\n",
       "    </tr>\n",
       "    <tr>\n",
       "      <th>1</th>\n",
       "      <td>The Café - Hotel Mulia</td>\n",
       "      <td>1200000.0</td>\n",
       "    </tr>\n",
       "    <tr>\n",
       "      <th>2</th>\n",
       "      <td>GIA Restaurant &amp; Bar</td>\n",
       "      <td>700000.0</td>\n",
       "    </tr>\n",
       "    <tr>\n",
       "      <th>3</th>\n",
       "      <td>SKYE</td>\n",
       "      <td>600000.0</td>\n",
       "    </tr>\n",
       "    <tr>\n",
       "      <th>4</th>\n",
       "      <td>Shabu-Shabu Shaburi</td>\n",
       "      <td>600000.0</td>\n",
       "    </tr>\n",
       "  </tbody>\n",
       "</table>\n",
       "</div>"
      ],
      "text/plain": [
       "                Restaurant Name  Average Cost for two\n",
       "0  d'Arry's Verandah Restaurant            25000017.0\n",
       "1        The Café - Hotel Mulia             1200000.0\n",
       "2          GIA Restaurant & Bar              700000.0\n",
       "3                          SKYE              600000.0\n",
       "4           Shabu-Shabu Shaburi              600000.0"
      ]
     },
     "execution_count": 61,
     "metadata": {},
     "output_type": "execute_result"
    }
   ],
   "source": [
    "df1.loc[:, ['Average Cost for two', 'Restaurant Name']].groupby('Restaurant Name').mean().sort_values(['Average Cost for two'],ascending = False).reset_index().head(5)"
   ]
  },
  {
   "cell_type": "markdown",
   "id": "a9a95233-4cdf-43bd-8667-eb2e28d04c15",
   "metadata": {},
   "source": [
    "### 8. Os restaurantes do tipo de culinária japonesa dos Estados Unidos da América possuem um valor médio de prato para duas pessoas maior que as churrascarias americanas (BBQ)?"
   ]
  },
  {
   "cell_type": "code",
   "execution_count": 68,
   "id": "f7035a00-ff6d-41bd-a3e3-57d9490c0d94",
   "metadata": {},
   "outputs": [
    {
     "data": {
      "text/html": [
       "<div>\n",
       "<style scoped>\n",
       "    .dataframe tbody tr th:only-of-type {\n",
       "        vertical-align: middle;\n",
       "    }\n",
       "\n",
       "    .dataframe tbody tr th {\n",
       "        vertical-align: top;\n",
       "    }\n",
       "\n",
       "    .dataframe thead th {\n",
       "        text-align: right;\n",
       "    }\n",
       "</style>\n",
       "<table border=\"1\" class=\"dataframe\">\n",
       "  <thead>\n",
       "    <tr style=\"text-align: right;\">\n",
       "      <th></th>\n",
       "      <th>Restaurant Name</th>\n",
       "      <th>Average Cost for two</th>\n",
       "    </tr>\n",
       "  </thead>\n",
       "  <tbody>\n",
       "    <tr>\n",
       "      <th>0</th>\n",
       "      <td>Nobu</td>\n",
       "      <td>250.0</td>\n",
       "    </tr>\n",
       "    <tr>\n",
       "      <th>1</th>\n",
       "      <td>Morimoto</td>\n",
       "      <td>120.0</td>\n",
       "    </tr>\n",
       "    <tr>\n",
       "      <th>2</th>\n",
       "      <td>Roka Akor - Chicago</td>\n",
       "      <td>100.0</td>\n",
       "    </tr>\n",
       "    <tr>\n",
       "      <th>3</th>\n",
       "      <td>Uchi</td>\n",
       "      <td>80.0</td>\n",
       "    </tr>\n",
       "    <tr>\n",
       "      <th>4</th>\n",
       "      <td>Bamboo Sushi</td>\n",
       "      <td>75.0</td>\n",
       "    </tr>\n",
       "  </tbody>\n",
       "</table>\n",
       "</div>"
      ],
      "text/plain": [
       "       Restaurant Name  Average Cost for two\n",
       "0                 Nobu                 250.0\n",
       "1             Morimoto                 120.0\n",
       "2  Roka Akor - Chicago                 100.0\n",
       "3                 Uchi                  80.0\n",
       "4         Bamboo Sushi                  75.0"
      ]
     },
     "execution_count": 68,
     "metadata": {},
     "output_type": "execute_result"
    }
   ],
   "source": [
    "df1.loc[(df1['Cuisines'] == 'Japanese') & (df1['Country Name'] == 'United States of America'), ['Average Cost for two', 'Restaurant Name']].groupby('Restaurant Name').mean().sort_values(['Average Cost for two'],ascending = False).reset_index().head(5)"
   ]
  },
  {
   "cell_type": "code",
   "execution_count": 69,
   "id": "8a334087-8afc-4626-9acd-e444da13be96",
   "metadata": {},
   "outputs": [
    {
     "data": {
      "text/html": [
       "<div>\n",
       "<style scoped>\n",
       "    .dataframe tbody tr th:only-of-type {\n",
       "        vertical-align: middle;\n",
       "    }\n",
       "\n",
       "    .dataframe tbody tr th {\n",
       "        vertical-align: top;\n",
       "    }\n",
       "\n",
       "    .dataframe thead th {\n",
       "        text-align: right;\n",
       "    }\n",
       "</style>\n",
       "<table border=\"1\" class=\"dataframe\">\n",
       "  <thead>\n",
       "    <tr style=\"text-align: right;\">\n",
       "      <th></th>\n",
       "      <th>Restaurant Name</th>\n",
       "      <th>Average Cost for two</th>\n",
       "    </tr>\n",
       "  </thead>\n",
       "  <tbody>\n",
       "    <tr>\n",
       "      <th>0</th>\n",
       "      <td>Lamberts Downtown Barbecue</td>\n",
       "      <td>100.0</td>\n",
       "    </tr>\n",
       "    <tr>\n",
       "      <th>1</th>\n",
       "      <td>Russell Street Bar.B.Que</td>\n",
       "      <td>75.0</td>\n",
       "    </tr>\n",
       "    <tr>\n",
       "      <th>2</th>\n",
       "      <td>Podnah's Pit BBQ</td>\n",
       "      <td>75.0</td>\n",
       "    </tr>\n",
       "    <tr>\n",
       "      <th>3</th>\n",
       "      <td>Redbones Barbecue</td>\n",
       "      <td>75.0</td>\n",
       "    </tr>\n",
       "    <tr>\n",
       "      <th>4</th>\n",
       "      <td>Blue Smoke</td>\n",
       "      <td>70.0</td>\n",
       "    </tr>\n",
       "  </tbody>\n",
       "</table>\n",
       "</div>"
      ],
      "text/plain": [
       "              Restaurant Name  Average Cost for two\n",
       "0  Lamberts Downtown Barbecue                 100.0\n",
       "1    Russell Street Bar.B.Que                  75.0\n",
       "2            Podnah's Pit BBQ                  75.0\n",
       "3           Redbones Barbecue                  75.0\n",
       "4                  Blue Smoke                  70.0"
      ]
     },
     "execution_count": 69,
     "metadata": {},
     "output_type": "execute_result"
    }
   ],
   "source": [
    "df1.loc[(df1['Cuisines'] == 'BBQ') & (df1['Country Name'] == 'United States of America'), ['Average Cost for two', 'Restaurant Name']].groupby('Restaurant Name').mean().sort_values(['Average Cost for two'],ascending = False).reset_index().head(5)"
   ]
  },
  {
   "cell_type": "code",
   "execution_count": null,
   "id": "2c5e0209-5cd4-4004-aaef-4c14084d9708",
   "metadata": {},
   "outputs": [],
   "source": []
  }
 ],
 "metadata": {
  "kernelspec": {
   "display_name": "Python 3 (ipykernel)",
   "language": "python",
   "name": "python3"
  },
  "language_info": {
   "codemirror_mode": {
    "name": "ipython",
    "version": 3
   },
   "file_extension": ".py",
   "mimetype": "text/x-python",
   "name": "python",
   "nbconvert_exporter": "python",
   "pygments_lexer": "ipython3",
   "version": "3.9.13"
  }
 },
 "nbformat": 4,
 "nbformat_minor": 5
}
